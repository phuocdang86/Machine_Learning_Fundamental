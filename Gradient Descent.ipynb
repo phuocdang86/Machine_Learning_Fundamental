{
 "cells": [
  {
   "cell_type": "code",
   "execution_count": 4,
   "id": "6a61740d-58c3-49f6-8cef-6f88df094844",
   "metadata": {},
   "outputs": [],
   "source": [
    "import numpy as np\n",
    "\n",
    "#define cost function: f(x) = x^2 + sin(x)\n",
    "def cost_fn(x):\n",
    "    return x**2 + 5*np.sin(x)\n",
    "\n",
    "def grad(x):\n",
    "    return 2*x + 5*np.cos(x)\n",
    "\n",
    "def myGD1 (x0, eta):\n",
    "    x = [x0]\n",
    "    for it in range(100):\n",
    "        x_new = x[-1] - eta*grad(x[-1])\n",
    "        if abs(grad(x_new)) < 1e-3:\n",
    "            break\n",
    "        x.append(x_new)\n",
    "    return (x, it)\n"
   ]
  },
  {
   "cell_type": "code",
   "execution_count": 8,
   "id": "6f1bf6ec-004d-4d13-9f94-ac4d2c29cd54",
   "metadata": {},
   "outputs": [
    {
     "name": "stdout",
     "output_type": "stream",
     "text": [
      "Solution x1 = -1.110667, cost = -3.246394, after 11 iterations\n",
      "Solution x2 = -1.110341, cost = -3.246394, after 29 iterations\n"
     ]
    }
   ],
   "source": [
    "(x1, it1) = myGD1(-5, .1)\n",
    "(x2, it2) = myGD1(5, .1)\n",
    "\n",
    "print('Solution x1 = %f, cost = %f, after %d iterations' %(x1[-1], cost_fn(x1[-1]), it1))\n",
    "print('Solution x2 = %f, cost = %f, after %d iterations' %(x2[-1], cost_fn(x2[-1]), it2))"
   ]
  },
  {
   "cell_type": "code",
   "execution_count": null,
   "id": "52ce3a7b-09c7-4d98-8c02-b071b6a577e2",
   "metadata": {},
   "outputs": [],
   "source": [
    "#jlfjsdjflsk"
   ]
  }
 ],
 "metadata": {
  "kernelspec": {
   "display_name": "Python 3 (ipykernel)",
   "language": "python",
   "name": "python3"
  },
  "language_info": {
   "codemirror_mode": {
    "name": "ipython",
    "version": 3
   },
   "file_extension": ".py",
   "mimetype": "text/x-python",
   "name": "python",
   "nbconvert_exporter": "python",
   "pygments_lexer": "ipython3",
   "version": "3.10.1"
  }
 },
 "nbformat": 4,
 "nbformat_minor": 5
}
