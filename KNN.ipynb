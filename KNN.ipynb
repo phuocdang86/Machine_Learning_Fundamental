{
 "cells": [
  {
   "cell_type": "code",
   "execution_count": 32,
   "id": "9f172368-f345-4c59-a22f-ab3db315b893",
   "metadata": {},
   "outputs": [],
   "source": [
    "from __future__ import print_function\n",
    "import numpy as np\n",
    "from time import time"
   ]
  },
  {
   "cell_type": "code",
   "execution_count": 33,
   "id": "97fb33d4-337c-4037-9476-b384cb3dc1c1",
   "metadata": {},
   "outputs": [],
   "source": [
    "d, N = 1000, 10000\n",
    "\n",
    "X = np.random.randn(N,d)\n",
    "z = np.random.randn(d)"
   ]
  },
  {
   "cell_type": "code",
   "execution_count": 34,
   "id": "e7bf2a26-2b76-4418-b292-655efa885d45",
   "metadata": {},
   "outputs": [],
   "source": [
    "#square distance between 2 vectors\n",
    "def dist_pp(z, x):\n",
    "    d = z - x.reshape(z.shape)\n",
    "    return np.sum(d*d)\n",
    "\n",
    "#distance from one point to each point in a set, naive\n",
    "def dist_ps_naive(z, X):\n",
    "    N = X.shape[0]\n",
    "    res = np.zeros((1,N))\n",
    "    for i in range(N):\n",
    "        res[0][i] = dist_pp(z, X[i])\n",
    "    return res"
   ]
  },
  {
   "cell_type": "code",
   "execution_count": 44,
   "id": "1a08e55c-fff0-4e4c-aefc-af6da414cfa7",
   "metadata": {},
   "outputs": [
    {
     "name": "stdout",
     "output_type": "stream",
     "text": [
      "naive point2set, running time:  0.09869265556335449 s\n",
      "fast point2set, running time:  0.023698806762695312 s\n",
      "result difference:  2.3020953036420277e-11\n"
     ]
    }
   ],
   "source": [
    "#from one point to each point in a set, fast\n",
    "def dist_ps_fast(z, X):\n",
    "    X2 = np.sum(X*X, 1)\n",
    "    z2 = np.sum(z*z)\n",
    "    return X2 + z2 - 2*X.dot(z)\n",
    "\n",
    "t1 = time()\n",
    "D1 = dist_ps_naive(z, X)\n",
    "print('naive point2set, running time: ', time() - t1, 's')\n",
    "\n",
    "t2 = time()\n",
    "D2 = dist_ps_fast(z, X)\n",
    "print('fast point2set, running time: ', time() - t2, 's')\n",
    "print('result difference: ', np.linalg.norm(D1-D2))"
   ]
  },
  {
   "cell_type": "code",
   "execution_count": 45,
   "id": "92a5a3bc-5545-4462-b855-a8c3ab837d33",
   "metadata": {},
   "outputs": [],
   "source": [
    "#distance from 2 sets\n",
    "Z = np.random.randn(100, d)\n",
    "\n",
    "def dist_ss_0(Z, X):\n",
    "    M, N = Z.shape[0], X.shape[0]\n",
    "    res = np.zeros((M, N))\n",
    "    for i in range(M):\n",
    "        res[i] = dist_ps_fast(Z[i], X)\n",
    "    return res\n"
   ]
  },
  {
   "cell_type": "code",
   "execution_count": 46,
   "id": "b23216e3-202a-481a-b54b-74b64d4dca00",
   "metadata": {},
   "outputs": [],
   "source": [
    "def dist_ss_fast(Z, X):\n",
    "    Z2 = np.sum(Z*Z, 1)\n",
    "    X2 = np.sum(X*X, 1)\n",
    "    return Z2.reshape(-1,1) + X2.reshape(1,-1) - 2*Z.dot(X.T)"
   ]
  },
  {
   "cell_type": "code",
   "execution_count": 47,
   "id": "6230e381-2f78-4767-8605-fa9a8b4f1b3b",
   "metadata": {},
   "outputs": [
    {
     "name": "stdout",
     "output_type": "stream",
     "text": [
      "half fast set2set running time:  2.769139051437378 s\n",
      "fast set2set running time:  0.05274391174316406 s\n",
      "result difference:  1.0193798628392088e-10\n"
     ]
    }
   ],
   "source": [
    "t1 = time()\n",
    "D3 = dist_ss_0(Z, X)\n",
    "print('half fast set2set running time: ', time() - t1, 's')\n",
    "\n",
    "t2 = time()\n",
    "D4 = dist_ss_fast(Z, X)\n",
    "print('fast set2set running time: ', time() -t2, 's')\n",
    "print('result difference: ', np.linalg.norm(D3-D4))"
   ]
  },
  {
   "cell_type": "code",
   "execution_count": 48,
   "id": "4a35c6f5-21a0-4c2d-b353-80cfd1fb2587",
   "metadata": {},
   "outputs": [],
   "source": [
    "from sklearn.model_selection import train_test_split\n",
    "from sklearn.metrics import accuracy_score\n",
    "from sklearn import datasets, neighbors"
   ]
  },
  {
   "cell_type": "code",
   "execution_count": 49,
   "id": "7c662a29-5ee9-4740-8c21-4aaa41fab348",
   "metadata": {},
   "outputs": [],
   "source": [
    "iris = datasets.load_iris()\n",
    "iris_X = iris.data\n",
    "iris_y = iris.target"
   ]
  },
  {
   "cell_type": "code",
   "execution_count": 51,
   "id": "b5fd5d0a-c7df-48e1-9027-cf6903a25355",
   "metadata": {},
   "outputs": [
    {
     "name": "stdout",
     "output_type": "stream",
     "text": [
      "Labels: [0 1 2]\n"
     ]
    }
   ],
   "source": [
    "print('Labels:', np.unique(iris_y))"
   ]
  },
  {
   "cell_type": "code",
   "execution_count": 53,
   "id": "f69bffe1-1017-4505-8089-7896faf97cff",
   "metadata": {},
   "outputs": [
    {
     "name": "stdout",
     "output_type": "stream",
     "text": [
      "Training size: 20 , test size: 130\n"
     ]
    }
   ],
   "source": [
    "np.random.seed(7)\n",
    "X_train, X_test, y_train, y_test = train_test_split(iris_X,iris_y, test_size=130)\n",
    "\n",
    "print('Training size:', X_train.shape[0], ', test size:', X_test.shape[0])"
   ]
  },
  {
   "cell_type": "code",
   "execution_count": 57,
   "id": "e178c907-7793-402b-b9de-dc0279a4c0a0",
   "metadata": {},
   "outputs": [
    {
     "name": "stdout",
     "output_type": "stream",
     "text": [
      "Accuracy of 1NN: 92.31%\n"
     ]
    }
   ],
   "source": [
    "model = neighbors.KNeighborsClassifier(n_neighbors=1, p = 2)\n",
    "model.fit(X_train, y_train)\n",
    "\n",
    "y_pred = model.predict(X_test)\n",
    "print('Accuracy of 1NN: %.2f%%' %(100*accuracy_score(y_test, y_pred)))"
   ]
  },
  {
   "cell_type": "code",
   "execution_count": 58,
   "id": "8527ea9c-8505-4b5a-add5-3e5e15b64265",
   "metadata": {},
   "outputs": [
    {
     "name": "stdout",
     "output_type": "stream",
     "text": [
      "Accuracy of 7NN: 93.85%\n"
     ]
    }
   ],
   "source": [
    "model = neighbors.KNeighborsClassifier(n_neighbors=7, p = 2)\n",
    "model.fit(X_train, y_train)\n",
    "\n",
    "y_pred = model.predict(X_test)\n",
    "print('Accuracy of 7NN: %.2f%%' %(100*accuracy_score(y_test, y_pred)))"
   ]
  },
  {
   "cell_type": "code",
   "execution_count": 59,
   "id": "d1ea8b8e-9e6e-4bf3-bb67-ec5638052627",
   "metadata": {},
   "outputs": [
    {
     "name": "stdout",
     "output_type": "stream",
     "text": [
      "Accuracy of 7NN (1/distance weights): 94.62%\n"
     ]
    }
   ],
   "source": [
    "model = neighbors.KNeighborsClassifier(n_neighbors=7, p = 2, weights='distance')\n",
    "model.fit(X_train, y_train)\n",
    "\n",
    "y_pred = model.predict(X_test)\n",
    "print('Accuracy of 7NN (1/distance weights): %.2f%%' %(100*accuracy_score(y_test, y_pred)))"
   ]
  },
  {
   "cell_type": "code",
   "execution_count": 62,
   "id": "f8a96980-5ac5-4f40-b17d-652bfd6ba948",
   "metadata": {},
   "outputs": [
    {
     "name": "stdout",
     "output_type": "stream",
     "text": [
      "Accuracy of 7NN (1/distance weights): 95.38%\n"
     ]
    }
   ],
   "source": [
    "def myweight(distances):\n",
    "    sigma2 = .4\n",
    "    return np.exp(-distances**2/sigma2)\n",
    "\n",
    "model = neighbors.KNeighborsClassifier(n_neighbors=7, p = 2, weights=myweight)\n",
    "model.fit(X_train, y_train)\n",
    "y_pred = model.predict(X_test)\n",
    "\n",
    "print('Accuracy of 7NN (1/distance weights): %.2f%%' %(100*accuracy_score(y_test, y_pred)))"
   ]
  },
  {
   "cell_type": "code",
   "execution_count": null,
   "id": "1bf946b1-620d-4ce1-9277-730054eadf69",
   "metadata": {},
   "outputs": [],
   "source": []
  }
 ],
 "metadata": {
  "kernelspec": {
   "display_name": "Python 3 (ipykernel)",
   "language": "python",
   "name": "python3"
  },
  "language_info": {
   "codemirror_mode": {
    "name": "ipython",
    "version": 3
   },
   "file_extension": ".py",
   "mimetype": "text/x-python",
   "name": "python",
   "nbconvert_exporter": "python",
   "pygments_lexer": "ipython3",
   "version": "3.11.4"
  }
 },
 "nbformat": 4,
 "nbformat_minor": 5
}
